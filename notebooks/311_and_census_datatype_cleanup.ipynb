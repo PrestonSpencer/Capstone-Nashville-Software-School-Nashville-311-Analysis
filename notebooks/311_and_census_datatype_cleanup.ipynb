{
 "cells": [
  {
   "cell_type": "code",
   "execution_count": 1,
   "id": "e5413161",
   "metadata": {},
   "outputs": [],
   "source": [
    "import pandas as pd\n",
    "import numpy as np\n",
    "import matplotlib.pyplot as plt\n",
    "import seaborn as sns\n",
    "import re\n",
    "from datetime import datetime, timedelta, date"
   ]
  },
  {
   "cell_type": "code",
   "execution_count": 2,
   "id": "95140112",
   "metadata": {},
   "outputs": [
    {
     "name": "stderr",
     "output_type": "stream",
     "text": [
      "/var/folders/46/zm0dtt4s22d760_6ml4_t_vr0000gn/T/ipykernel_64893/1706468830.py:1: DtypeWarning: Columns (2,3,5,7,8,9,10,47) have mixed types. Specify dtype option on import or set low_memory=False.\n",
      "  main_df = pd.read_csv('../data/requests_census_neighborhoods.csv')\n"
     ]
    }
   ],
   "source": [
    "main_df = pd.read_csv('../data/requests_census_neighborhoods.csv')"
   ]
  },
  {
   "cell_type": "code",
   "execution_count": 3,
   "id": "8f036658",
   "metadata": {},
   "outputs": [],
   "source": [
    "main_df.columns = main_df.columns.str.strip()"
   ]
  },
  {
   "cell_type": "code",
   "execution_count": 4,
   "id": "f047da5b",
   "metadata": {},
   "outputs": [],
   "source": [
    "main_df['Households (Median Income)'] = main_df['Households (Median Income)'].str.replace(',', '')"
   ]
  },
  {
   "cell_type": "code",
   "execution_count": 5,
   "id": "d0e3dbad",
   "metadata": {},
   "outputs": [],
   "source": [
    "main_df['Households (Median Income)'] = main_df['Households (Median Income)'].astype(int)"
   ]
  },
  {
   "cell_type": "code",
   "execution_count": 6,
   "id": "86a48d36",
   "metadata": {},
   "outputs": [
    {
     "data": {
      "text/html": [
       "<div>\n",
       "<style scoped>\n",
       "    .dataframe tbody tr th:only-of-type {\n",
       "        vertical-align: middle;\n",
       "    }\n",
       "\n",
       "    .dataframe tbody tr th {\n",
       "        vertical-align: top;\n",
       "    }\n",
       "\n",
       "    .dataframe thead th {\n",
       "        text-align: right;\n",
       "    }\n",
       "</style>\n",
       "<table border=\"1\" class=\"dataframe\">\n",
       "  <thead>\n",
       "    <tr style=\"text-align: right;\">\n",
       "      <th></th>\n",
       "      <th>ZIP</th>\n",
       "      <th>Households (Count)</th>\n",
       "      <th>White (Count)</th>\n",
       "      <th>Black or African American (Count)</th>\n",
       "      <th>American Indian and Alaska Native (Count)</th>\n",
       "      <th>Asian (Count)</th>\n",
       "      <th>Native Hawaiian and Other Pacific Islander (Count)</th>\n",
       "      <th>Some other race (Count)</th>\n",
       "      <th>Two or more races (Count)</th>\n",
       "      <th>Hispanic or Latino origin (of any race) (Count)</th>\n",
       "      <th>...</th>\n",
       "      <th>City</th>\n",
       "      <th>Council District</th>\n",
       "      <th>Latitude</th>\n",
       "      <th>Longitude</th>\n",
       "      <th>Mapped Location</th>\n",
       "      <th>Time to Resolve</th>\n",
       "      <th>Hours to Resolve</th>\n",
       "      <th>Days to Resolve</th>\n",
       "      <th>Neighborhood</th>\n",
       "      <th>Income Bracket</th>\n",
       "    </tr>\n",
       "  </thead>\n",
       "  <tbody>\n",
       "    <tr>\n",
       "      <th>0</th>\n",
       "      <td>37013</td>\n",
       "      <td>35,483</td>\n",
       "      <td>16,986</td>\n",
       "      <td>14,101</td>\n",
       "      <td>90.0</td>\n",
       "      <td>1,413</td>\n",
       "      <td>0.0</td>\n",
       "      <td>1,235</td>\n",
       "      <td>1,658</td>\n",
       "      <td>3,971</td>\n",
       "      <td>...</td>\n",
       "      <td>ANTIOCH</td>\n",
       "      <td>33.0</td>\n",
       "      <td>36.080968</td>\n",
       "      <td>-86.602406</td>\n",
       "      <td>(36.080968, -86.602406)</td>\n",
       "      <td>4 days 23:09:25</td>\n",
       "      <td>119.156944</td>\n",
       "      <td>4.964873</td>\n",
       "      <td>Antioch / Cane Ridge</td>\n",
       "      <td>$60,000 - $80,000</td>\n",
       "    </tr>\n",
       "    <tr>\n",
       "      <th>1</th>\n",
       "      <td>37013</td>\n",
       "      <td>35,483</td>\n",
       "      <td>16,986</td>\n",
       "      <td>14,101</td>\n",
       "      <td>90.0</td>\n",
       "      <td>1,413</td>\n",
       "      <td>0.0</td>\n",
       "      <td>1,235</td>\n",
       "      <td>1,658</td>\n",
       "      <td>3,971</td>\n",
       "      <td>...</td>\n",
       "      <td>ANTIOCH</td>\n",
       "      <td>28.0</td>\n",
       "      <td>36.072191</td>\n",
       "      <td>-86.664342</td>\n",
       "      <td>(36.07219072, -86.66434192)</td>\n",
       "      <td>2 days 16:16:00</td>\n",
       "      <td>64.266667</td>\n",
       "      <td>2.677778</td>\n",
       "      <td>Antioch / Cane Ridge</td>\n",
       "      <td>$60,000 - $80,000</td>\n",
       "    </tr>\n",
       "    <tr>\n",
       "      <th>2</th>\n",
       "      <td>37013</td>\n",
       "      <td>35,483</td>\n",
       "      <td>16,986</td>\n",
       "      <td>14,101</td>\n",
       "      <td>90.0</td>\n",
       "      <td>1,413</td>\n",
       "      <td>0.0</td>\n",
       "      <td>1,235</td>\n",
       "      <td>1,658</td>\n",
       "      <td>3,971</td>\n",
       "      <td>...</td>\n",
       "      <td>ANTIOCH</td>\n",
       "      <td>33.0</td>\n",
       "      <td>36.050526</td>\n",
       "      <td>-86.606362</td>\n",
       "      <td>(36.05052579, -86.60636223)</td>\n",
       "      <td>35 days 15:25:00</td>\n",
       "      <td>855.416667</td>\n",
       "      <td>35.642361</td>\n",
       "      <td>Antioch / Cane Ridge</td>\n",
       "      <td>$60,000 - $80,000</td>\n",
       "    </tr>\n",
       "    <tr>\n",
       "      <th>3</th>\n",
       "      <td>37013</td>\n",
       "      <td>35,483</td>\n",
       "      <td>16,986</td>\n",
       "      <td>14,101</td>\n",
       "      <td>90.0</td>\n",
       "      <td>1,413</td>\n",
       "      <td>0.0</td>\n",
       "      <td>1,235</td>\n",
       "      <td>1,658</td>\n",
       "      <td>3,971</td>\n",
       "      <td>...</td>\n",
       "      <td>ANTIOCH</td>\n",
       "      <td>29.0</td>\n",
       "      <td>36.073930</td>\n",
       "      <td>-86.609670</td>\n",
       "      <td>(36.07393, -86.60967)</td>\n",
       "      <td>7 days 00:04:00</td>\n",
       "      <td>168.066667</td>\n",
       "      <td>7.002778</td>\n",
       "      <td>Antioch / Cane Ridge</td>\n",
       "      <td>$60,000 - $80,000</td>\n",
       "    </tr>\n",
       "    <tr>\n",
       "      <th>4</th>\n",
       "      <td>37013</td>\n",
       "      <td>35,483</td>\n",
       "      <td>16,986</td>\n",
       "      <td>14,101</td>\n",
       "      <td>90.0</td>\n",
       "      <td>1,413</td>\n",
       "      <td>0.0</td>\n",
       "      <td>1,235</td>\n",
       "      <td>1,658</td>\n",
       "      <td>3,971</td>\n",
       "      <td>...</td>\n",
       "      <td>ANTIOCH</td>\n",
       "      <td>32.0</td>\n",
       "      <td>36.044549</td>\n",
       "      <td>-86.612186</td>\n",
       "      <td>(36.0445494, -86.6121858)</td>\n",
       "      <td>1 days 04:29:00</td>\n",
       "      <td>28.483333</td>\n",
       "      <td>1.186806</td>\n",
       "      <td>Antioch / Cane Ridge</td>\n",
       "      <td>$60,000 - $80,000</td>\n",
       "    </tr>\n",
       "  </tbody>\n",
       "</table>\n",
       "<p>5 rows × 56 columns</p>\n",
       "</div>"
      ],
      "text/plain": [
       "     ZIP Households (Count) White (Count) Black or African American (Count)  \\\n",
       "0  37013             35,483        16,986                            14,101   \n",
       "1  37013             35,483        16,986                            14,101   \n",
       "2  37013             35,483        16,986                            14,101   \n",
       "3  37013             35,483        16,986                            14,101   \n",
       "4  37013             35,483        16,986                            14,101   \n",
       "\n",
       "   American Indian and Alaska Native (Count) Asian (Count)  \\\n",
       "0                                       90.0         1,413   \n",
       "1                                       90.0         1,413   \n",
       "2                                       90.0         1,413   \n",
       "3                                       90.0         1,413   \n",
       "4                                       90.0         1,413   \n",
       "\n",
       "   Native Hawaiian and Other Pacific Islander (Count) Some other race (Count)  \\\n",
       "0                                                0.0                    1,235   \n",
       "1                                                0.0                    1,235   \n",
       "2                                                0.0                    1,235   \n",
       "3                                                0.0                    1,235   \n",
       "4                                                0.0                    1,235   \n",
       "\n",
       "  Two or more races (Count) Hispanic or Latino origin (of any race) (Count)  \\\n",
       "0                     1,658                                           3,971   \n",
       "1                     1,658                                           3,971   \n",
       "2                     1,658                                           3,971   \n",
       "3                     1,658                                           3,971   \n",
       "4                     1,658                                           3,971   \n",
       "\n",
       "   ...     City Council District   Latitude  Longitude  \\\n",
       "0  ...  ANTIOCH             33.0  36.080968 -86.602406   \n",
       "1  ...  ANTIOCH             28.0  36.072191 -86.664342   \n",
       "2  ...  ANTIOCH             33.0  36.050526 -86.606362   \n",
       "3  ...  ANTIOCH             29.0  36.073930 -86.609670   \n",
       "4  ...  ANTIOCH             32.0  36.044549 -86.612186   \n",
       "\n",
       "               Mapped Location   Time to Resolve Hours to Resolve  \\\n",
       "0      (36.080968, -86.602406)   4 days 23:09:25       119.156944   \n",
       "1  (36.07219072, -86.66434192)   2 days 16:16:00        64.266667   \n",
       "2  (36.05052579, -86.60636223)  35 days 15:25:00       855.416667   \n",
       "3        (36.07393, -86.60967)   7 days 00:04:00       168.066667   \n",
       "4    (36.0445494, -86.6121858)   1 days 04:29:00        28.483333   \n",
       "\n",
       "  Days to Resolve          Neighborhood     Income Bracket  \n",
       "0        4.964873  Antioch / Cane Ridge  $60,000 - $80,000  \n",
       "1        2.677778  Antioch / Cane Ridge  $60,000 - $80,000  \n",
       "2       35.642361  Antioch / Cane Ridge  $60,000 - $80,000  \n",
       "3        7.002778  Antioch / Cane Ridge  $60,000 - $80,000  \n",
       "4        1.186806  Antioch / Cane Ridge  $60,000 - $80,000  \n",
       "\n",
       "[5 rows x 56 columns]"
      ]
     },
     "execution_count": 6,
     "metadata": {},
     "output_type": "execute_result"
    }
   ],
   "source": [
    "main_df['Income Bracket'] = ''\n",
    "\n",
    "for ind, row in main_df.iterrows():\n",
    "    if row['Households (Median Income)'] < 40000:\n",
    "        main_df.loc[ind, 'Income Bracket'] = 'Less Than $40,000'\n",
    "    elif row['Households (Median Income)'] >= 40000 and row['Households (Median Income)'] < 60000:\n",
    "        main_df.loc[ind, 'Income Bracket'] = '$40,000 - $60,000'\n",
    "    elif row['Households (Median Income)'] >= 60000 and row['Households (Median Income)'] < 80000:\n",
    "        main_df.loc[ind, 'Income Bracket'] = '$60,000 - $80,000'\n",
    "    elif row['Households (Median Income)'] >= 80000 and row['Households (Median Income)'] < 100000:\n",
    "        main_df.loc[ind, 'Income Bracket'] = '$80,000 - $100,000'\n",
    "    elif row['Households (Median Income)'] >= 100000:\n",
    "        main_df.loc[ind, 'Income Bracket'] = 'More Than $100,000'\n",
    "    else:\n",
    "        main_df.loc[ind, 'Income Bracket'] = 'Other'\n",
    "\n",
    "main_df.head()        "
   ]
  },
  {
   "cell_type": "code",
   "execution_count": 7,
   "id": "418644be",
   "metadata": {},
   "outputs": [],
   "source": [
    "main_df['Households (Count)'] = main_df['Households (Count)'].str.replace(',', '')\n",
    "main_df['Households (Count)'].value_counts()\n",
    "main_df['Households (Count)'] = main_df['Households (Count)'].astype(float)"
   ]
  },
  {
   "cell_type": "code",
   "execution_count": 8,
   "id": "7e852619",
   "metadata": {},
   "outputs": [],
   "source": [
    "main_df['Black or African American (Percent Distribution)'] = main_df['Black or African American (Percent Distribution)'].str.replace('%', '')\n",
    "main_df['Black or African American (Percent Distribution)'] = main_df['Black or African American (Percent Distribution)'].astype(float)"
   ]
  },
  {
   "cell_type": "code",
   "execution_count": 9,
   "id": "44b5341f",
   "metadata": {},
   "outputs": [],
   "source": [
    "main_df['American Indian and Alaska Native (Percent Distribution)'] = main_df['American Indian and Alaska Native (Percent Distribution)'].str.replace('%', '')\n",
    "main_df['American Indian and Alaska Native (Percent Distribution)'] = main_df['American Indian and Alaska Native (Percent Distribution)'].astype(float)"
   ]
  },
  {
   "cell_type": "code",
   "execution_count": 10,
   "id": "ccd7e214",
   "metadata": {},
   "outputs": [],
   "source": [
    "main_df['Asian (Percent Distribution)'] = main_df['Asian (Percent Distribution)'].str.replace('%', '')\n",
    "main_df['Asian (Percent Distribution)'] = main_df['Asian (Percent Distribution)'].astype(float)"
   ]
  },
  {
   "cell_type": "code",
   "execution_count": 11,
   "id": "1771ef20",
   "metadata": {},
   "outputs": [],
   "source": [
    "main_df['Native Hawaiian and Other Pacific Islander (Percent Distribution)'] = main_df['Native Hawaiian and Other Pacific Islander (Percent Distribution)'].str.replace('%', '')\n",
    "main_df['Native Hawaiian and Other Pacific Islander (Percent Distribution)'] = main_df['Native Hawaiian and Other Pacific Islander (Percent Distribution)'].astype(float)"
   ]
  },
  {
   "cell_type": "code",
   "execution_count": 12,
   "id": "830128a5",
   "metadata": {},
   "outputs": [],
   "source": [
    "main_df['Some other race (Percent Distribution)'] = main_df['Some other race (Percent Distribution)'].str.replace('%', '')\n",
    "main_df['Some other race (Percent Distribution)'] = main_df['Some other race (Percent Distribution)'].astype(float)"
   ]
  },
  {
   "cell_type": "code",
   "execution_count": 13,
   "id": "215812b3",
   "metadata": {},
   "outputs": [],
   "source": [
    "main_df['Hispanic or Latino origin (of any race) (Percent Distribution)'] = main_df['Hispanic or Latino origin (of any race) (Percent Distribution)'].str.replace('%', '')\n",
    "main_df['Hispanic or Latino origin (of any race) (Percent Distribution)'] = main_df['Hispanic or Latino origin (of any race) (Percent Distribution)'].astype(float)"
   ]
  },
  {
   "cell_type": "code",
   "execution_count": 14,
   "id": "16e5fa72",
   "metadata": {},
   "outputs": [],
   "source": [
    "main_df['White (Percent Distribution)'] = main_df['White (Percent Distribution)'].str.replace('%', '')\n",
    "main_df['White (Percent Distribution)'] = main_df['White (Percent Distribution)'].astype(float)"
   ]
  },
  {
   "cell_type": "code",
   "execution_count": 15,
   "id": "610d15ef",
   "metadata": {},
   "outputs": [],
   "source": [
    "main_df['Two or more races (Percent Distribution)'] = main_df['Two or more races (Percent Distribution)'].str.replace('%', '')\n",
    "main_df['Two or more races (Percent Distribution)'] = main_df['Two or more races (Percent Distribution)'].astype(float)"
   ]
  },
  {
   "cell_type": "code",
   "execution_count": 16,
   "id": "7d2d893b",
   "metadata": {},
   "outputs": [],
   "source": [
    "main_df['White alone, not Hispanic or Latino (Percent Distribution)'] = main_df['White alone, not Hispanic or Latino (Percent Distribution)'].str.replace('%', '')\n",
    "main_df['White alone, not Hispanic or Latino (Percent Distribution)'] = main_df['White alone, not Hispanic or Latino (Percent Distribution)'].astype(float)"
   ]
  },
  {
   "cell_type": "code",
   "execution_count": 17,
   "id": "b31c735c",
   "metadata": {},
   "outputs": [],
   "source": [
    "main_df['Minority Population %'] = main_df['Black or African American (Percent Distribution)'] + main_df['American Indian and Alaska Native (Percent Distribution)'] + main_df['Asian (Percent Distribution)'] + main_df['Native Hawaiian and Other Pacific Islander (Percent Distribution)'] + main_df['Some other race (Percent Distribution)'] + main_df['Hispanic or Latino origin (of any race) (Percent Distribution)']"
   ]
  },
  {
   "cell_type": "code",
   "execution_count": 18,
   "id": "1e1720c6",
   "metadata": {},
   "outputs": [],
   "source": [
    "main_df['Minority Population Percent'] = 100 - main_df['White alone, not Hispanic or Latino (Percent Distribution)']"
   ]
  },
  {
   "cell_type": "code",
   "execution_count": 19,
   "id": "cd828152",
   "metadata": {},
   "outputs": [],
   "source": [
    "# main_df['Minority Population %'].value_counts()"
   ]
  },
  {
   "cell_type": "code",
   "execution_count": 20,
   "id": "e0b17435",
   "metadata": {},
   "outputs": [],
   "source": [
    "# main_df['Minority Population Percent'].value_counts()"
   ]
  },
  {
   "cell_type": "code",
   "execution_count": 21,
   "id": "5f49040a",
   "metadata": {},
   "outputs": [],
   "source": [
    "del main_df['Minority Population %']"
   ]
  },
  {
   "cell_type": "code",
   "execution_count": 22,
   "id": "cab4dbdf",
   "metadata": {},
   "outputs": [],
   "source": [
    "main_df = main_df.rename(columns={'Minority Population Percent':'Minority Population %'})"
   ]
  },
  {
   "cell_type": "code",
   "execution_count": 23,
   "id": "d32ee569",
   "metadata": {},
   "outputs": [],
   "source": [
    "main_df['White (Median Income)'] = main_df['White (Median Income)'].str.replace(',', '')\n",
    "main_df['White (Median Income)'] = main_df['White (Median Income)'].astype(float)"
   ]
  },
  {
   "cell_type": "code",
   "execution_count": 24,
   "id": "43c1890f",
   "metadata": {},
   "outputs": [],
   "source": [
    "# main_df['Black or African American (Median Income)'].value_counts()"
   ]
  },
  {
   "cell_type": "code",
   "execution_count": 25,
   "id": "8b36a785",
   "metadata": {},
   "outputs": [],
   "source": [
    "# main_df['Black or African American (Median Income)'] = main_df['Black or African American (Median Income)'].str.replace(',', '')\n",
    "# main_df['Black or African American (Median Income)'] = main_df['Black or African American (Median Income)'].astype(float)"
   ]
  },
  {
   "cell_type": "code",
   "execution_count": 26,
   "id": "29d9fb67",
   "metadata": {},
   "outputs": [
    {
     "name": "stdout",
     "output_type": "stream",
     "text": [
      "<class 'pandas.core.frame.DataFrame'>\n",
      "RangeIndex: 722026 entries, 0 to 722025\n",
      "Data columns (total 57 columns):\n",
      " #   Column                                                             Non-Null Count   Dtype  \n",
      "---  ------                                                             --------------   -----  \n",
      " 0   ZIP                                                                722026 non-null  int64  \n",
      " 1   Households (Count)                                                 722026 non-null  float64\n",
      " 2   White (Count)                                                      722026 non-null  object \n",
      " 3   Black or African American (Count)                                  722026 non-null  object \n",
      " 4   American Indian and Alaska Native (Count)                          722026 non-null  float64\n",
      " 5   Asian (Count)                                                      722026 non-null  object \n",
      " 6   Native Hawaiian and Other Pacific Islander (Count)                 722026 non-null  float64\n",
      " 7   Some other race (Count)                                            722026 non-null  object \n",
      " 8   Two or more races (Count)                                          722026 non-null  object \n",
      " 9   Hispanic or Latino origin (of any race) (Count)                    722026 non-null  object \n",
      " 10  White alone, not Hispanic or Latino (Count)                        722026 non-null  object \n",
      " 11  Households (Percent Distribution)                                  722026 non-null  object \n",
      " 12  White (Percent Distribution)                                       722026 non-null  float64\n",
      " 13  Black or African American (Percent Distribution)                   722026 non-null  float64\n",
      " 14  American Indian and Alaska Native (Percent Distribution)           722026 non-null  float64\n",
      " 15  Asian (Percent Distribution)                                       722026 non-null  float64\n",
      " 16  Native Hawaiian and Other Pacific Islander (Percent Distribution)  722026 non-null  float64\n",
      " 17  Some other race (Percent Distribution)                             722026 non-null  float64\n",
      " 18  Two or more races (Percent Distribution)                           722026 non-null  float64\n",
      " 19  Hispanic or Latino origin (of any race) (Percent Distribution)     722026 non-null  float64\n",
      " 20  White alone, not Hispanic or Latino (Percent Distribution)         722026 non-null  float64\n",
      " 21  Households (Median Income)                                         722026 non-null  int64  \n",
      " 22  White (Median Income)                                              722026 non-null  float64\n",
      " 23  Black or African American (Median Income)                          722026 non-null  object \n",
      " 24  American Indian and Alaska Native (Median Income)                  722026 non-null  object \n",
      " 25  Asian (Median Income)                                              722026 non-null  object \n",
      " 26  Native Hawaiian and Other Pacific Islander (Median Income)         722026 non-null  object \n",
      " 27  Some other race (Median Income)                                    722026 non-null  object \n",
      " 28  Two or more races (Median Income)                                  722026 non-null  object \n",
      " 29  Hispanic or Latino origin (of any race) (Median Income)            722026 non-null  object \n",
      " 30  White alone, not Hispanic or Latino (Median Income)                722026 non-null  object \n",
      " 31  Request #                                                          722026 non-null  int64  \n",
      " 32  Status                                                             722026 non-null  object \n",
      " 33  Request Type                                                       722018 non-null  object \n",
      " 34  Subrequest Type                                                    721700 non-null  object \n",
      " 35  Additional Subrequest Type                                         686587 non-null  object \n",
      " 36  Date / Time Opened                                                 722026 non-null  object \n",
      " 37  Date / Time Closed                                                 710463 non-null  object \n",
      " 38  Request Origin                                                     722026 non-null  object \n",
      " 39  System of Origin ID                                                38681 non-null   object \n",
      " 40  Contact Type                                                       28729 non-null   object \n",
      " 41  Preferred Language                                                 0 non-null       float64\n",
      " 42  State Issue                                                        722026 non-null  bool   \n",
      " 43  Parent Request                                                     10551 non-null   float64\n",
      " 44  Closed When Created                                                722026 non-null  bool   \n",
      " 45  Address                                                            720571 non-null  object \n",
      " 46  City                                                               721909 non-null  object \n",
      " 47  Council District                                                   721435 non-null  object \n",
      " 48  Latitude                                                           721573 non-null  float64\n",
      " 49  Longitude                                                          721573 non-null  float64\n",
      " 50  Mapped Location                                                    721573 non-null  object \n",
      " 51  Time to Resolve                                                    710463 non-null  object \n",
      " 52  Hours to Resolve                                                   710463 non-null  float64\n",
      " 53  Days to Resolve                                                    710463 non-null  float64\n",
      " 54  Neighborhood                                                       722026 non-null  object \n",
      " 55  Income Bracket                                                     722026 non-null  object \n",
      " 56  Minority Population %                                              722026 non-null  float64\n",
      "dtypes: bool(2), float64(20), int64(3), object(32)\n",
      "memory usage: 304.4+ MB\n"
     ]
    }
   ],
   "source": [
    "main_df.info()"
   ]
  },
  {
   "cell_type": "code",
   "execution_count": 27,
   "id": "85517781",
   "metadata": {},
   "outputs": [],
   "source": [
    "main_df.to_csv('../data/datatypes_cleaned.csv', index = False)"
   ]
  },
  {
   "cell_type": "code",
   "execution_count": 28,
   "id": "f88a617b",
   "metadata": {},
   "outputs": [],
   "source": [
    "# income_zips = main_df.iloc[:, [0, 21, 33, 34, 35, 53, 54]]\n",
    "# income_zips.info()"
   ]
  },
  {
   "cell_type": "code",
   "execution_count": 29,
   "id": "9ca8aa46",
   "metadata": {},
   "outputs": [],
   "source": [
    "# def resolve_mean(income_zips):\n",
    "#     return income_zips['Days to Resolve'].mean()\n",
    "# income_zips_group = income_zips.groupby(['Neighborhood', 'Households (Median Income)']).apply(resolve_mean)\n",
    "# income_zips_group = income_zips_group.reset_index()\n",
    "# plt.figure(figsize = (16, 8))\n",
    "# sns.scatterplot(data = income_zips_group, x = 'Households (Median Income)', y = 0)\n",
    "# plt.ylabel('Avg Days to Resolve Request');"
   ]
  },
  {
   "cell_type": "code",
   "execution_count": 30,
   "id": "f710ec00",
   "metadata": {},
   "outputs": [],
   "source": [
    "# income_zips_group.sort_values(by = ['Households (Median Income)'], ascending = False)"
   ]
  },
  {
   "cell_type": "code",
   "execution_count": 31,
   "id": "d57c4425",
   "metadata": {},
   "outputs": [],
   "source": [
    "# main_df.groupby(['Neighborhood', 'Request Type']).agg({'Days to Resolve':'mean'})"
   ]
  },
  {
   "cell_type": "code",
   "execution_count": 32,
   "id": "1202c57c",
   "metadata": {},
   "outputs": [],
   "source": [
    "# main_df.groupby('Neighborhood')['Request Type'].value_counts()"
   ]
  }
 ],
 "metadata": {
  "kernelspec": {
   "display_name": "Python 3 (ipykernel)",
   "language": "python",
   "name": "python3"
  },
  "language_info": {
   "codemirror_mode": {
    "name": "ipython",
    "version": 3
   },
   "file_extension": ".py",
   "mimetype": "text/x-python",
   "name": "python",
   "nbconvert_exporter": "python",
   "pygments_lexer": "ipython3",
   "version": "3.9.12"
  }
 },
 "nbformat": 4,
 "nbformat_minor": 5
}

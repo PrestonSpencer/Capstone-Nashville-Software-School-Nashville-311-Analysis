{
 "cells": [
  {
   "cell_type": "code",
   "execution_count": null,
   "id": "e5413161",
   "metadata": {},
   "outputs": [],
   "source": [
    "import pandas as pd\n",
    "import numpy as np\n",
    "import matplotlib.pyplot as plt\n",
    "import seaborn as sns\n",
    "import re\n",
    "from datetime import datetime, timedelta, date"
   ]
  },
  {
   "cell_type": "code",
   "execution_count": null,
   "id": "95140112",
   "metadata": {},
   "outputs": [],
   "source": [
    "main_df = pd.read_csv('../data/requests_census_neighborhoods.csv')"
   ]
  },
  {
   "cell_type": "code",
   "execution_count": null,
   "id": "8f036658",
   "metadata": {},
   "outputs": [],
   "source": [
    "main_df.columns = main_df.columns.str.strip()"
   ]
  },
  {
   "cell_type": "code",
   "execution_count": null,
   "id": "f047da5b",
   "metadata": {},
   "outputs": [],
   "source": [
    "main_df['Households (Median Income)'] = main_df['Households (Median Income)'].str.replace(',', '')"
   ]
  },
  {
   "cell_type": "code",
   "execution_count": null,
   "id": "d0e3dbad",
   "metadata": {},
   "outputs": [],
   "source": [
    "main_df['Households (Median Income)'] = main_df['Households (Median Income)'].astype(int)"
   ]
  },
  {
   "cell_type": "code",
   "execution_count": null,
   "id": "86a48d36",
   "metadata": {},
   "outputs": [],
   "source": [
    "main_df['Income Bracket'] = ''\n",
    "\n",
    "for ind, row in main_df.iterrows():\n",
    "    if row['Households (Median Income)'] < 40000:\n",
    "        main_df.loc[ind, 'Income Bracket'] = 'Less Than $40,000'\n",
    "    elif row['Households (Median Income)'] >= 40000 and row['Households (Median Income)'] < 60000:\n",
    "        main_df.loc[ind, 'Income Bracket'] = '$40,000 to $60,000'\n",
    "    elif row['Households (Median Income)'] >= 60000 and row['Households (Median Income)'] < 80000:\n",
    "        main_df.loc[ind, 'Income Bracket'] = '$60,000 to $80,000'\n",
    "    elif row['Households (Median Income)'] >= 80000 and row['Households (Median Income)'] < 100000:\n",
    "        main_df.loc[ind, 'Income Bracket'] = '$80,000 to $100,000'\n",
    "    elif row['Households (Median Income)'] >= 100000:\n",
    "        main_df.loc[ind, 'Income Bracket'] = 'More Than $100,000'\n",
    "    else:\n",
    "        main_df.loc[ind, 'Income Bracket'] = 'Other'\n",
    "\n",
    "main_df.head()        "
   ]
  },
  {
   "cell_type": "code",
   "execution_count": null,
   "id": "418644be",
   "metadata": {},
   "outputs": [],
   "source": [
    "main_df['Households (Count)'] = main_df['Households (Count)'].str.replace(',', '')\n",
    "main_df['Households (Count)'].value_counts()\n",
    "#main_df['Households (Count)'] = main_df['Households (Count)'].astype(int)"
   ]
  },
  {
   "cell_type": "code",
   "execution_count": null,
   "id": "5405749e",
   "metadata": {},
   "outputs": [],
   "source": [
    "main_df.info()"
   ]
  },
  {
   "cell_type": "code",
   "execution_count": null,
   "id": "7e852619",
   "metadata": {},
   "outputs": [],
   "source": [
    "main_df['Black or African American (Percent Distribution)'] = main_df['Black or African American (Percent Distribution)'].str.replace('%', '')\n",
    "main_df['Black or African American (Percent Distribution)'] = main_df['Black or African American (Percent Distribution)'].astype(float)"
   ]
  },
  {
   "cell_type": "code",
   "execution_count": 45,
   "id": "44b5341f",
   "metadata": {},
   "outputs": [],
   "source": [
    "main_df['American Indian and Alaska Native (Percent Distribution)'] = main_df['American Indian and Alaska Native (Percent Distribution)'].str.replace('%', '')\n",
    "main_df['American Indian and Alaska Native (Percent Distribution)'] = main_df['American Indian and Alaska Native (Percent Distribution)'].astype(float)"
   ]
  },
  {
   "cell_type": "code",
   "execution_count": 46,
   "id": "ccd7e214",
   "metadata": {},
   "outputs": [],
   "source": [
    "main_df['Asian (Percent Distribution)'] = main_df['Asian (Percent Distribution)'].str.replace('%', '')\n",
    "main_df['Asian (Percent Distribution)'] = main_df['Asian (Percent Distribution)'].astype(float)"
   ]
  },
  {
   "cell_type": "code",
   "execution_count": 47,
   "id": "1771ef20",
   "metadata": {},
   "outputs": [],
   "source": [
    "main_df['Native Hawaiian and Other Pacific Islander (Percent Distribution)'] = main_df['Native Hawaiian and Other Pacific Islander (Percent Distribution)'].str.replace('%', '')\n",
    "main_df['Native Hawaiian and Other Pacific Islander (Percent Distribution)'] = main_df['Native Hawaiian and Other Pacific Islander (Percent Distribution)'].astype(float)"
   ]
  },
  {
   "cell_type": "code",
   "execution_count": 48,
   "id": "830128a5",
   "metadata": {},
   "outputs": [],
   "source": [
    "main_df['Some other race (Percent Distribution)'] = main_df['Some other race (Percent Distribution)'].str.replace('%', '')\n",
    "main_df['Some other race (Percent Distribution)'] = main_df['Some other race (Percent Distribution)'].astype(float)"
   ]
  },
  {
   "cell_type": "code",
   "execution_count": 55,
   "id": "b252d03e",
   "metadata": {},
   "outputs": [],
   "source": [
    "main_df['Hispanic or Latino origin (of any race) (Percent Distribution)'] = main_df['Hispanic or Latino origin (of any race) (Percent Distribution)'].str.replace('%', '')\n",
    "main_df['Hispanic or Latino origin (of any race) (Percent Distribution)'] = main_df['Hispanic or Latino origin (of any race) (Percent Distribution)'].astype(float)"
   ]
  },
  {
   "cell_type": "code",
   "execution_count": 59,
   "id": "10cfec50",
   "metadata": {},
   "outputs": [],
   "source": [
    "main_df['White (Percent Distribution)'] = main_df['White (Percent Distribution)'].str.replace('%', '')\n",
    "main_df['White (Percent Distribution)'] = main_df['White (Percent Distribution)'].astype(float)"
   ]
  },
  {
   "cell_type": "code",
   "execution_count": 61,
   "id": "394833d4",
   "metadata": {},
   "outputs": [],
   "source": [
    "main_df['Two or more races (Percent Distribution)'] = main_df['Two or more races (Percent Distribution)'].str.replace('%', '')\n",
    "main_df['Two or more races (Percent Distribution)'] = main_df['Two or more races (Percent Distribution)'].astype(float)"
   ]
  },
  {
   "cell_type": "code",
   "execution_count": 62,
   "id": "516046a7",
   "metadata": {},
   "outputs": [],
   "source": [
    "main_df['White alone, not Hispanic or Latino (Percent Distribution)'] = main_df['White alone, not Hispanic or Latino (Percent Distribution)'].str.replace('%', '')\n",
    "main_df['White alone, not Hispanic or Latino (Percent Distribution)'] = main_df['White alone, not Hispanic or Latino (Percent Distribution)'].astype(float)"
   ]
  },
  {
   "cell_type": "code",
   "execution_count": 65,
   "id": "0876a319",
   "metadata": {
    "scrolled": false
   },
   "outputs": [
    {
     "data": {
      "text/plain": [
       "68.9    74870\n",
       "41.4    68662\n",
       "62.3    65905\n",
       "26.0    50040\n",
       "67.2    48384\n",
       "36.9    40019\n",
       "61.3    35983\n",
       "47.7    35596\n",
       "72.4    32954\n",
       "91.1    30777\n",
       "46.3    29445\n",
       "89.4    27150\n",
       "72.6    26786\n",
       "51.9    25809\n",
       "81.2    20749\n",
       "78.2    20628\n",
       "18.1    20541\n",
       "85.5    12339\n",
       "86.8    11753\n",
       "85.6     8339\n",
       "83.4     7515\n",
       "83.6     7457\n",
       "96.2     6579\n",
       "73.1     5084\n",
       "51.0     3506\n",
       "86.4     2163\n",
       "39.7     1292\n",
       "85.7      484\n",
       "52.6      396\n",
       "91.9      345\n",
       "96.1      247\n",
       "84.6      229\n",
       "Name: White alone, not Hispanic or Latino (Percent Distribution), dtype: int64"
      ]
     },
     "execution_count": 65,
     "metadata": {},
     "output_type": "execute_result"
    }
   ],
   "source": [
    "main_df['White alone, not Hispanic or Latino (Percent Distribution)'].value_counts()"
   ]
  },
  {
   "cell_type": "code",
   "execution_count": 56,
   "id": "b31c735c",
   "metadata": {},
   "outputs": [],
   "source": [
    "main_df['Minority Population %'] = main_df['Black or African American (Percent Distribution)'] + main_df['American Indian and Alaska Native (Percent Distribution)'] + main_df['Asian (Percent Distribution)'] + main_df['Native Hawaiian and Other Pacific Islander (Percent Distribution)'] + main_df['Some other race (Percent Distribution)'] + main_df['Hispanic or Latino origin (of any race) (Percent Distribution)']"
   ]
  },
  {
   "cell_type": "code",
   "execution_count": 68,
   "id": "14d25d65",
   "metadata": {},
   "outputs": [],
   "source": [
    "main_df['Minority Population Percent'] = 100 - main_df['White alone, not Hispanic or Latino (Percent Distribution)']"
   ]
  },
  {
   "cell_type": "code",
   "execution_count": null,
   "id": "8fad218a",
   "metadata": {},
   "outputs": [],
   "source": [
    "main_df['Minority Population %'].value_counts()"
   ]
  },
  {
   "cell_type": "code",
   "execution_count": null,
   "id": "fdb40a64",
   "metadata": {},
   "outputs": [],
   "source": [
    "main_df['Minority Population Percent'].value_counts()"
   ]
  },
  {
   "cell_type": "code",
   "execution_count": 71,
   "id": "4825ce52",
   "metadata": {},
   "outputs": [],
   "source": [
    "del main_df['Minority Population %']"
   ]
  },
  {
   "cell_type": "code",
   "execution_count": 72,
   "id": "dee4ea6f",
   "metadata": {},
   "outputs": [
    {
     "name": "stdout",
     "output_type": "stream",
     "text": [
      "<class 'pandas.core.frame.DataFrame'>\n",
      "RangeIndex: 722026 entries, 0 to 722025\n",
      "Data columns (total 57 columns):\n",
      " #   Column                                                             Non-Null Count   Dtype  \n",
      "---  ------                                                             --------------   -----  \n",
      " 0   ZIP                                                                722026 non-null  int64  \n",
      " 1   Households (Count)                                                 722026 non-null  object \n",
      " 2   White (Count)                                                      722026 non-null  object \n",
      " 3   Black or African American (Count)                                  722026 non-null  object \n",
      " 4   American Indian and Alaska Native (Count)                          722026 non-null  float64\n",
      " 5   Asian (Count)                                                      722026 non-null  object \n",
      " 6   Native Hawaiian and Other Pacific Islander (Count)                 722026 non-null  float64\n",
      " 7   Some other race (Count)                                            722026 non-null  object \n",
      " 8   Two or more races (Count)                                          722026 non-null  object \n",
      " 9   Hispanic or Latino origin (of any race) (Count)                    722026 non-null  object \n",
      " 10  White alone, not Hispanic or Latino (Count)                        722026 non-null  object \n",
      " 11  Households (Percent Distribution)                                  722026 non-null  object \n",
      " 12  White (Percent Distribution)                                       722026 non-null  float64\n",
      " 13  Black or African American (Percent Distribution)                   722026 non-null  float64\n",
      " 14  American Indian and Alaska Native (Percent Distribution)           722026 non-null  float64\n",
      " 15  Asian (Percent Distribution)                                       722026 non-null  float64\n",
      " 16  Native Hawaiian and Other Pacific Islander (Percent Distribution)  722026 non-null  float64\n",
      " 17  Some other race (Percent Distribution)                             722026 non-null  float64\n",
      " 18  Two or more races (Percent Distribution)                           722026 non-null  float64\n",
      " 19  Hispanic or Latino origin (of any race) (Percent Distribution)     722026 non-null  float64\n",
      " 20  White alone, not Hispanic or Latino (Percent Distribution)         722026 non-null  float64\n",
      " 21  Households (Median Income)                                         722026 non-null  int64  \n",
      " 22  White (Median Income)                                              722026 non-null  object \n",
      " 23  Black or African American (Median Income)                          722026 non-null  object \n",
      " 24  American Indian and Alaska Native (Median Income)                  722026 non-null  object \n",
      " 25  Asian (Median Income)                                              722026 non-null  object \n",
      " 26  Native Hawaiian and Other Pacific Islander (Median Income)         722026 non-null  object \n",
      " 27  Some other race (Median Income)                                    722026 non-null  object \n",
      " 28  Two or more races (Median Income)                                  722026 non-null  object \n",
      " 29  Hispanic or Latino origin (of any race) (Median Income)            722026 non-null  object \n",
      " 30  White alone, not Hispanic or Latino (Median Income)                722026 non-null  object \n",
      " 31  Request #                                                          722026 non-null  int64  \n",
      " 32  Status                                                             722026 non-null  object \n",
      " 33  Request Type                                                       722018 non-null  object \n",
      " 34  Subrequest Type                                                    721700 non-null  object \n",
      " 35  Additional Subrequest Type                                         686587 non-null  object \n",
      " 36  Date / Time Opened                                                 722026 non-null  object \n",
      " 37  Date / Time Closed                                                 710463 non-null  object \n",
      " 38  Request Origin                                                     722026 non-null  object \n",
      " 39  System of Origin ID                                                38681 non-null   object \n",
      " 40  Contact Type                                                       28729 non-null   object \n",
      " 41  Preferred Language                                                 0 non-null       float64\n",
      " 42  State Issue                                                        722026 non-null  bool   \n",
      " 43  Parent Request                                                     10551 non-null   float64\n",
      " 44  Closed When Created                                                722026 non-null  bool   \n",
      " 45  Address                                                            720571 non-null  object \n",
      " 46  City                                                               721909 non-null  object \n",
      " 47  Council District                                                   721435 non-null  object \n",
      " 48  Latitude                                                           721573 non-null  float64\n",
      " 49  Longitude                                                          721573 non-null  float64\n",
      " 50  Mapped Location                                                    721573 non-null  object \n",
      " 51  Time to Resolve                                                    710463 non-null  object \n",
      " 52  Hours to Resolve                                                   710463 non-null  float64\n",
      " 53  Days to Resolve                                                    710463 non-null  float64\n",
      " 54  Neighborhood                                                       722026 non-null  object \n",
      " 55  Income Bracket                                                     722026 non-null  object \n",
      " 56  Minority Population Percent                                        722026 non-null  float64\n",
      "dtypes: bool(2), float64(18), int64(3), object(34)\n",
      "memory usage: 304.4+ MB\n"
     ]
    }
   ],
   "source": [
    "main_df.info()"
   ]
  },
  {
   "cell_type": "code",
   "execution_count": null,
   "id": "f88a617b",
   "metadata": {},
   "outputs": [],
   "source": [
    "# income_zips = main_df.iloc[:, [0, 21, 33, 34, 35, 53, 54]]\n",
    "# income_zips.info()"
   ]
  },
  {
   "cell_type": "code",
   "execution_count": null,
   "id": "9ca8aa46",
   "metadata": {},
   "outputs": [],
   "source": [
    "# def resolve_mean(income_zips):\n",
    "#     return income_zips['Days to Resolve'].mean()\n",
    "# income_zips_group = income_zips.groupby(['Neighborhood', 'Households (Median Income)']).apply(resolve_mean)\n",
    "# income_zips_group = income_zips_group.reset_index()\n",
    "# plt.figure(figsize = (16, 8))\n",
    "# sns.scatterplot(data = income_zips_group, x = 'Households (Median Income)', y = 0)\n",
    "# plt.ylabel('Avg Days to Resolve Request');"
   ]
  },
  {
   "cell_type": "code",
   "execution_count": null,
   "id": "f710ec00",
   "metadata": {},
   "outputs": [],
   "source": [
    "# income_zips_group.sort_values(by = ['Households (Median Income)'], ascending = False)"
   ]
  },
  {
   "cell_type": "code",
   "execution_count": null,
   "id": "d57c4425",
   "metadata": {},
   "outputs": [],
   "source": [
    "# main_df.groupby(['Neighborhood', 'Request Type']).agg({'Days to Resolve':'mean'})"
   ]
  },
  {
   "cell_type": "code",
   "execution_count": null,
   "id": "1202c57c",
   "metadata": {},
   "outputs": [],
   "source": [
    "# main_df.groupby('Neighborhood')['Request Type'].value_counts()"
   ]
  }
 ],
 "metadata": {
  "kernelspec": {
   "display_name": "Python 3 (ipykernel)",
   "language": "python",
   "name": "python3"
  },
  "language_info": {
   "codemirror_mode": {
    "name": "ipython",
    "version": 3
   },
   "file_extension": ".py",
   "mimetype": "text/x-python",
   "name": "python",
   "nbconvert_exporter": "python",
   "pygments_lexer": "ipython3",
   "version": "3.9.12"
  }
 },
 "nbformat": 4,
 "nbformat_minor": 5
}
